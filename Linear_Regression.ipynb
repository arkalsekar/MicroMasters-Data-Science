{
 "cells": [
  {
   "cell_type": "code",
   "execution_count": 10,
   "id": "d49cdf7c-3d48-420b-a8da-588467a30b1a",
   "metadata": {},
   "outputs": [],
   "source": [
    "import os \n",
    "import sys\n",
    "import numpy as np \n",
    "import matplotlib.pyplot as plt\n",
    "from scipy import stats"
   ]
  },
  {
   "cell_type": "markdown",
   "id": "4dfb4e64-791b-4ecf-967c-42dd652d637b",
   "metadata": {},
   "source": [
    "## Linear Regression \n",
    "Linear Regression can be estimated using the Following Formulas\n",
    "x is independent \n",
    "y is dependent\n",
    "\n",
    "y(predict) = beta_0 + Beta_1 * X(current value) \\n\n",
    "beta_1  = SSxy / SSxx \\n\n",
    "beta_0 = mean_y - beta_1  * mean_x \\n"
   ]
  },
  {
   "cell_type": "code",
   "execution_count": null,
   "id": "9c8e216c-5ba8-4ddb-b52d-70b9950aa5f7",
   "metadata": {},
   "outputs": [],
   "source": [
    "def coefficients(x, y):\n",
    "    mean_x = np.mean(x);\n",
    "    mean_y = np.mean(y)"
   ]
  },
  {
   "cell_type": "code",
   "execution_count": null,
   "id": "5cc1b52f-02ca-42c9-aec4-372f9cdae791",
   "metadata": {},
   "outputs": [],
   "source": [
    "# 1D Array \n",
    "x = np.array([1, 2, 3, 4, 5, 6])\n",
    "y = np.array([4, 6, 5, 12, 45, 54])\n",
    "\n",
    "plt.scatter(x,y)\n",
    "plt.show()"
   ]
  },
  {
   "cell_type": "code",
   "execution_count": null,
   "id": "f6bfd3e4-20df-432c-8193-9f50cccb943e",
   "metadata": {},
   "outputs": [],
   "source": []
  },
  {
   "cell_type": "code",
   "execution_count": 7,
   "id": "e35ace4d-9457-4c6e-8a01-8364bcc1d7b5",
   "metadata": {},
   "outputs": [
    {
     "data": {
      "text/plain": [
       "array([[2, 4],\n",
       "       [6, 8]])"
      ]
     },
     "execution_count": 7,
     "metadata": {},
     "output_type": "execute_result"
    }
   ],
   "source": [
    "# 2D Array \n",
    "np.array([[2, 4], [6, 8]])"
   ]
  },
  {
   "cell_type": "code",
   "execution_count": null,
   "id": "3417b2b7-359e-424e-aeaf-2ff7c7fa98e0",
   "metadata": {},
   "outputs": [],
   "source": []
  },
  {
   "cell_type": "code",
   "execution_count": null,
   "id": "20a1b3c5-6853-4c33-85d5-9efa3b84d90c",
   "metadata": {},
   "outputs": [],
   "source": []
  }
 ],
 "metadata": {
  "kernelspec": {
   "display_name": "Python 3 (ipykernel)",
   "language": "python",
   "name": "python3"
  },
  "language_info": {
   "codemirror_mode": {
    "name": "ipython",
    "version": 3
   },
   "file_extension": ".py",
   "mimetype": "text/x-python",
   "name": "python",
   "nbconvert_exporter": "python",
   "pygments_lexer": "ipython3",
   "version": "3.9.5"
  }
 },
 "nbformat": 4,
 "nbformat_minor": 5
}
